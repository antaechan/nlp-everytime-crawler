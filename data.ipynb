{
 "cells": [
  {
   "cell_type": "code",
   "execution_count": 29,
   "metadata": {},
   "outputs": [],
   "source": [
    "# import\n",
    "from pymongo import MongoClient\n",
    "from bson.objectid import ObjectId\n",
    "from datetime import datetime, timezone, timedelta\n",
    "import re\n",
    "import pandas as pd\n",
    "import matplotlib.pyplot as plt"
   ]
  },
  {
   "cell_type": "code",
   "execution_count": 30,
   "metadata": {},
   "outputs": [],
   "source": [
    "# connect with mongo\n",
    "client = MongoClient(\"mongodb://localhost:27017/\")\n",
    "db = client[\"local\"]"
   ]
  },
  {
   "cell_type": "code",
   "execution_count": 31,
   "metadata": {},
   "outputs": [],
   "source": [
    "import openpyxl\n",
    "\n",
    "\n",
    "board_types = [\"free\", \"politic\", \"secret\", \"newbie\"]\n",
    "\n",
    "for board_type in board_types:\n",
    "    if board_type == \"free\":\n",
    "        articles = db.free.find()\n",
    "    elif board_type == \"politic\":\n",
    "        articles = db.politic.find()\n",
    "    elif board_type == \"secret\":\n",
    "        articles = db.secret.find()\n",
    "    elif board_type == \"newbie\":\n",
    "        articles = db.newbie.find()\n",
    "    \n",
    "    \n",
    "    articles_df = pd.DataFrame(data=articles, columns=articles[0].keys())\n",
    "    articles_df.set_index(\"_id\", inplace=True)\n",
    "    \n",
    "    articles_df.to_excel(f\"data/{board_type}.xlsx\")\n",
    "    articles_df.to_csv(f\"data/{board_type}.csv\", index=False, encoding='utf-8-sig')\n"
   ]
  }
 ],
 "metadata": {
  "kernelspec": {
   "display_name": "Python 3",
   "language": "python",
   "name": "python3"
  },
  "language_info": {
   "codemirror_mode": {
    "name": "ipython",
    "version": 3
   },
   "file_extension": ".py",
   "mimetype": "text/x-python",
   "name": "python",
   "nbconvert_exporter": "python",
   "pygments_lexer": "ipython3",
   "version": "3.10.11"
  }
 },
 "nbformat": 4,
 "nbformat_minor": 2
}
