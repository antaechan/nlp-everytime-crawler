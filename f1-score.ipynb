{
 "cells": [
  {
   "cell_type": "code",
   "execution_count": 47,
   "metadata": {},
   "outputs": [
    {
     "name": "stdout",
     "output_type": "stream",
     "text": [
      "free f1-score: 0.77\n",
      "newbie f1-score: 0.22\n",
      "politic f1-score: 0.74\n",
      "secret f1-score: 0.45\n"
     ]
    }
   ],
   "source": [
    "import pandas as pd\n",
    "from sklearn.metrics import f1_score\n",
    "\n",
    "free_df = pd.read_csv(\"f1-score/free_gpt.csv\")\n",
    "newbie_df = pd.read_csv(\"f1-score/newbie_gpt.csv\")\n",
    "politic_df = pd.read_csv(\"f1-score/politic_gpt.csv\")\n",
    "politic_df.dropna(inplace=True)\n",
    "politic_df[\"GPT\"] = politic_df[\"chat_gpt_label\"].apply(lambda category: int(category))\n",
    "secret_df = pd.read_csv(\"f1-score/secret_gpt.csv\")\n",
    "secret_df[\"GPT\"] = secret_df[\"CLEAN\"].apply(\n",
    "    lambda isgptClean: 0 if isgptClean == 1 else 1\n",
    ")\n",
    "secret_df[\"clean\"] = pd.read_csv(\"ret_data/secret.csv\")[\"clean\"]\n",
    "\n",
    "secret_df.dropna(inplace=True, axis=0)\n",
    "dataset = {\n",
    "    \"free\": free_df,\n",
    "    \"newbie\": newbie_df,\n",
    "    \"politic\": politic_df,\n",
    "    \"secret\": secret_df,\n",
    "}\n",
    "for board_type, dataframe in dataset.items():\n",
    "    dataframe[\"trueLabel\"] = dataframe[\"clean\"].apply(\n",
    "        lambda isClean: 0 if isClean == 1 else 1\n",
    "    )\n",
    "    dataframe[\"gptLabel\"] = dataframe[\"GPT\"].apply(\n",
    "        lambda category: 1 if category != 11 else 0\n",
    "    )\n",
    "\n",
    "    y_valid = dataframe[\"trueLabel\"].tolist()\n",
    "    y_pred = dataframe[\"gptLabel\"].tolist()\n",
    "\n",
    "    f1 = round(f1_score(y_valid, y_pred), 2)\n",
    "    print(f\"{board_type} f1-score: {f1}\")"
   ]
  }
 ],
 "metadata": {
  "kernelspec": {
   "display_name": "Python 3",
   "language": "python",
   "name": "python3"
  },
  "language_info": {
   "codemirror_mode": {
    "name": "ipython",
    "version": 3
   },
   "file_extension": ".py",
   "mimetype": "text/x-python",
   "name": "python",
   "nbconvert_exporter": "python",
   "pygments_lexer": "ipython3",
   "version": "3.10.11"
  }
 },
 "nbformat": 4,
 "nbformat_minor": 2
}
